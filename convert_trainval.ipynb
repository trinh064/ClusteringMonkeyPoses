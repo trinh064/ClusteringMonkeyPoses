{
 "cells": [
  {
   "cell_type": "code",
   "execution_count": 2,
   "id": "7b65af84",
   "metadata": {},
   "outputs": [],
   "source": [
    "import json\n",
    "import cv2"
   ]
  },
  {
   "cell_type": "code",
   "execution_count": null,
   "id": "e0d9b219",
   "metadata": {},
   "outputs": [],
   "source": [
    "f=open(\"annotation.json\")\n",
    "data = json.load(f)"
   ]
  },
  {
   "cell_type": "code",
   "execution_count": null,
   "id": "6b62a165",
   "metadata": {},
   "outputs": [],
   "source": [
    "def viewimg(id):\n",
    "    obj=data[id]\n",
    "    img = cv2.imread(img[\"filename\"])\n",
    "    img = cv2.line(img, , end_point, color, thickness)\n",
    "    cv2.imshow(img[\"filename\"],img)\n",
    "    "
   ]
  },
  {
   "cell_type": "code",
   "execution_count": 19,
   "id": "89ec3343",
   "metadata": {},
   "outputs": [],
   "source": [
    "f=open(\"train_annotation.json\")\n",
    "data = json.load(f)\n"
   ]
  },
  {
   "cell_type": "code",
   "execution_count": 20,
   "id": "fa4c5a7b",
   "metadata": {},
   "outputs": [],
   "source": [
    "data[\"annotation\"] = data.pop(\"data\")"
   ]
  },
  {
   "cell_type": "code",
   "execution_count": 21,
   "id": "c050d628",
   "metadata": {},
   "outputs": [],
   "source": [
    "for i,e in enumerate(data[\"annotation\"]):\n",
    "    data[\"annotation\"][i][\"file\"]=data[\"annotation\"][i][\"file\"][6:]\n",
    "    data[\"annotation\"][i][\"id\"]=i"
   ]
  },
  {
   "cell_type": "code",
   "execution_count": 22,
   "id": "16faab6c",
   "metadata": {},
   "outputs": [
    {
     "data": {
      "text/plain": [
       "{'file': '0000000.jpg',\n",
       " 'species': 'Japanese_macaque',\n",
       " 'bbox': [91, 37, 485, 489],\n",
       " 'landmarks': [183,\n",
       "  190,\n",
       "  218,\n",
       "  185,\n",
       "  200,\n",
       "  214,\n",
       "  161,\n",
       "  107,\n",
       "  303,\n",
       "  170,\n",
       "  253,\n",
       "  198,\n",
       "  261,\n",
       "  276,\n",
       "  213,\n",
       "  420,\n",
       "  338,\n",
       "  192,\n",
       "  380,\n",
       "  320,\n",
       "  165,\n",
       "  445,\n",
       "  506,\n",
       "  429,\n",
       "  291,\n",
       "  297,\n",
       "  321,\n",
       "  451,\n",
       "  503,\n",
       "  235,\n",
       "  434,\n",
       "  456,\n",
       "  473,\n",
       "  450],\n",
       " 'visibility': [1, 1, 1, 1, 1, 1, 1, 1, 1, 1, 1, 1, 1, 1, 1, 1, 0],\n",
       " 'id': 0}"
      ]
     },
     "execution_count": 22,
     "metadata": {},
     "output_type": "execute_result"
    }
   ],
   "source": [
    "data[\"annotation\"][0]"
   ]
  },
  {
   "cell_type": "code",
   "execution_count": 23,
   "id": "4dcb8d00",
   "metadata": {},
   "outputs": [],
   "source": [
    "with open('train2017.json', 'w') as f:\n",
    "    json.dump(data, f)"
   ]
  },
  {
   "cell_type": "code",
   "execution_count": 26,
   "id": "38cd03a3",
   "metadata": {},
   "outputs": [],
   "source": [
    "f=open(\"val_annotation.json\")\n",
    "\n",
    "data = json.load(f)\n",
    "data[\"annotation\"] = data.pop(\"data\")\n",
    "for i,e in enumerate(data[\"annotation\"]):\n",
    "    data[\"annotation\"][i][\"file\"]=data[\"annotation\"][i][\"file\"][4:]\n",
    "    data[\"annotation\"][i][\"id\"]=i\n",
    "with open('val2017.json', 'w') as f:\n",
    "    json.dump(data, f)"
   ]
  },
  {
   "cell_type": "code",
   "execution_count": null,
   "id": "bd819fe3",
   "metadata": {},
   "outputs": [],
   "source": []
  }
 ],
 "metadata": {
  "kernelspec": {
   "display_name": "Python 3 (ipykernel)",
   "language": "python",
   "name": "python3"
  },
  "language_info": {
   "codemirror_mode": {
    "name": "ipython",
    "version": 3
   },
   "file_extension": ".py",
   "mimetype": "text/x-python",
   "name": "python",
   "nbconvert_exporter": "python",
   "pygments_lexer": "ipython3",
   "version": "3.9.7"
  }
 },
 "nbformat": 4,
 "nbformat_minor": 5
}
